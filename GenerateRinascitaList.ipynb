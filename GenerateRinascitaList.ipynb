{
 "cells": [
  {
   "cell_type": "code",
   "execution_count": 11,
   "metadata": {},
   "outputs": [
    {
     "data": {
      "text/plain": [
       "<module 'Functions.XIVApi' from 'c:\\\\Users\\\\Joshkinz\\\\Desktop\\\\Projects\\\\XIV-MarketBoard-Analysis\\\\Functions\\\\XIVApi.py'>"
      ]
     },
     "execution_count": 11,
     "metadata": {},
     "output_type": "execute_result"
    }
   ],
   "source": [
    "import Functions.Main as Main\n",
    "import Functions.GUI as GUI\n",
    "import Functions.Files as Files\n",
    "import Functions.Universalis as Universalis\n",
    "import Functions.XIVApi as XIVApi\n",
    "\n",
    "import importlib\n",
    "importlib.reload(XIVApi)"
   ]
  },
  {
   "cell_type": "code",
   "execution_count": 25,
   "metadata": {},
   "outputs": [],
   "source": [
    "XIVApi.SearchByString('Rinascita', 'RinascitaGear')"
   ]
  }
 ],
 "metadata": {
  "kernelspec": {
   "display_name": "Python 3",
   "language": "python",
   "name": "python3"
  },
  "language_info": {
   "codemirror_mode": {
    "name": "ipython",
    "version": 3
   },
   "file_extension": ".py",
   "mimetype": "text/x-python",
   "name": "python",
   "nbconvert_exporter": "python",
   "pygments_lexer": "ipython3",
   "version": "3.10.6"
  },
  "orig_nbformat": 4
 },
 "nbformat": 4,
 "nbformat_minor": 2
}
